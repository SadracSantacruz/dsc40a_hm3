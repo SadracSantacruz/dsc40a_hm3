{
 "cells": [
  {
   "cell_type": "code",
   "execution_count": 6,
   "metadata": {},
   "outputs": [
    {
     "name": "stdout",
     "output_type": "stream",
     "text": [
      "For H(x1) = a + bx1, a = 19.106060606060606, b = -1.0804195804195804\n",
      "For H(x2) = c + dx2, c = 120.02392739273927, d = -1.5643564356435644\n"
     ]
    }
   ],
   "source": [
    "import numpy as np\n",
    "import matplotlib.pyplot as plt\n",
    "\n",
    "# Dataset\n",
    "months = np.array([1, 2, 3, 4, 5, 6, 7, 8, 9, 10, 11, 12])\n",
    "temps = np.array([66, 64, 64, 66, 67, 70, 74, 75, 75, 73, 69, 65])\n",
    "yields = np.array([18, 22, 19, 17, 14, 10, 6, 2, 3, 6, 10, 18])\n",
    "\n",
    "# Calculate the means of X and y\n",
    "x1_bar = np.mean(months)\n",
    "x2_bar = np.mean(temps)\n",
    "y_bar = np.mean(yields)\n",
    "\n",
    "# Calculate the terms needed for the num and den of beta\n",
    "num1 = np.sum((months - x1_bar) * (yields - y_bar))\n",
    "den1 = np.sum((months - x1_bar)**2)\n",
    "\n",
    "num2 = np.sum((temps - x2_bar) * (yields - y_bar))\n",
    "den2 = np.sum((temps - x2_bar)**2)\n",
    "\n",
    "# Calculate beta\n",
    "b1 = num1 / den1\n",
    "b2 = num2 / den2\n",
    "\n",
    "# Calculate alpha\n",
    "a1 = y_bar - b1 * x1_bar\n",
    "a2 = y_bar - b2 * x2_bar\n",
    "\n",
    "print(f\"For H(x1) = a + bx1, a = {a1}, b = {b1}\")\n",
    "print(f\"For H(x2) = c + dx2, c = {a2}, d = {b2}\")\n",
    "\n",
    "\n"
   ]
  },
  {
   "cell_type": "code",
   "execution_count": null,
   "metadata": {},
   "outputs": [],
   "source": [
    "# Calculate the residuals\n",
    "residuals1 = yields - (a1 + b1 * months)\n",
    "residuals2 = yields - (a2 + b2 * temps)\n",
    "\n",
    "# Plot the residuals\n",
    "plt.figure(figsize=(12, 6))\n",
    "\n",
    "plt.subplot(1, 2, 1)\n",
    "plt.scatter(months, residuals1)\n",
    "plt.axhline(y=0, color='r', linestyle='-')\n",
    "plt.title(\"Residual Plot for H(x1)\")\n",
    "plt.xlabel(\"Month\")\n",
    "plt.ylabel(\"Residuals\")\n",
    "\n",
    "plt.subplot(1, 2, 2)\n",
    "plt.scatter(temps, residuals2)\n",
    "plt.axhline(y=0, color='r', linestyle='-')\n",
    "plt.title(\"Residual Plot for H(x2)\")\n",
    "plt.xlabel(\"Average High Temperature (◦F)\")\n",
    "plt.ylabel(\"Residuals\")\n",
    "\n",
    "plt.show()\n"
   ]
  },
  {
   "cell_type": "code",
   "execution_count": 4,
   "metadata": {},
   "outputs": [
    {
     "name": "stdout",
     "output_type": "stream",
     "text": [
      "For y = c + dx2 without the outlier, c = 118.46925260170293, d = -1.543519394512772\n",
      "The parameters changed by 1.5546747910363337 and 0.020837041130792322\n"
     ]
    }
   ],
   "source": [
    "# Remove the outlier\n",
    "temps_no_outlier = np.delete(temps, 0)\n",
    "yields_no_outlier = np.delete(yields, 0)\n",
    "\n",
    "# Calculate the means of X and y\n",
    "x2_bar_no_outlier = np.mean(temps_no_outlier)\n",
    "y_bar_no_outlier = np.mean(yields_no_outlier)\n",
    "\n",
    "# Calculate the terms needed for the num and den of beta\n",
    "num2_no_outlier = np.sum((temps_no_outlier - x2_bar_no_outlier) * (yields_no_outlier - y_bar_no_outlier))\n",
    "den2_no_outlier = np.sum((temps_no_outlier - x2_bar_no_outlier)**2)\n",
    "\n",
    "# Calculate beta and alpha\n",
    "b2_no_outlier = num2_no_outlier / den2_no_outlier\n",
    "a2_no_outlier = y_bar_no_outlier - b2_no_outlier * x2_bar_no_outlier\n",
    "\n",
    "print(f\"For y = c + dx2 without the outlier, c = {a2_no_outlier}, d = {b2_no_outlier}\")\n",
    "\n",
    "# Compare the parameters\n",
    "print(f\"The parameters changed by {abs(a2 - a2_no_outlier)} and {abs(b2 - b2_no_outlier)}\")\n"
   ]
  },
  {
   "cell_type": "code",
   "execution_count": null,
   "metadata": {},
   "outputs": [],
   "source": []
  }
 ],
 "metadata": {
  "kernelspec": {
   "display_name": "base",
   "language": "python",
   "name": "python3"
  },
  "language_info": {
   "codemirror_mode": {
    "name": "ipython",
    "version": 3
   },
   "file_extension": ".py",
   "mimetype": "text/x-python",
   "name": "python",
   "nbconvert_exporter": "python",
   "pygments_lexer": "ipython3",
   "version": "3.11.5"
  }
 },
 "nbformat": 4,
 "nbformat_minor": 2
}
