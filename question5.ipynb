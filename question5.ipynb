{
 "cells": [
  {
   "cell_type": "code",
   "execution_count": 2,
   "metadata": {},
   "outputs": [],
   "source": [
    "# Hypothetical y values\n",
    "y1, y2, y3, y4, y5, y6 = 10, 15, 20, 25, 30, 35\n"
   ]
  },
  {
   "cell_type": "code",
   "execution_count": 3,
   "metadata": {},
   "outputs": [],
   "source": [
    "# Calculate y' values\n",
    "y1_prime = (y1 + y2) / 2\n",
    "y2_prime = (y3 + y4) / 2\n",
    "y3_prime = (y5 + y6) / 2\n"
   ]
  },
  {
   "cell_type": "code",
   "execution_count": 4,
   "metadata": {},
   "outputs": [
    {
     "name": "stdout",
     "output_type": "stream",
     "text": [
      "For the six data points, w1* = 2.0, w0* = 2.5\n",
      "For the three averaged data points, w1*' = 2.0, w0*' = 2.5\n"
     ]
    }
   ],
   "source": [
    "import numpy as np\n",
    "\n",
    "# Dataset\n",
    "x = np.array([5, 5, 10, 10, 15, 15])\n",
    "y = np.array([y1, y2, y3, y4, y5, y6])\n",
    "\n",
    "# Calculate the means of X and y\n",
    "x_bar = np.mean(x)\n",
    "y_bar = np.mean(y)\n",
    "\n",
    "# Calculate w1* and w0* for the six data points\n",
    "w1_star = np.sum((x - x_bar) * (y - y_bar)) / np.sum((x - x_bar)**2)\n",
    "w0_star = y_bar - w1_star * x_bar\n",
    "\n",
    "print(f\"For the six data points, w1* = {w1_star}, w0* = {w0_star}\")\n",
    "\n",
    "# Dataset\n",
    "x_prime = np.array([5, 10, 15])\n",
    "y_prime = np.array([y1_prime, y2_prime, y3_prime])\n",
    "\n",
    "# Calculate the means of X' and y'\n",
    "x_prime_bar = np.mean(x_prime)\n",
    "y_prime_bar = np.mean(y_prime)\n",
    "\n",
    "# Calculate w1*' and w0*' for the three averaged data points\n",
    "w1_star_prime = np.sum((x_prime - x_prime_bar) * (y_prime - y_prime_bar)) / np.sum((x_prime - x_prime_bar)**2)\n",
    "w0_star_prime = y_prime_bar - w1_star_prime * x_prime_bar\n",
    "\n",
    "print(f\"For the three averaged data points, w1*' = {w1_star_prime}, w0*' = {w0_star_prime}\")\n"
   ]
  },
  {
   "cell_type": "code",
   "execution_count": null,
   "metadata": {},
   "outputs": [],
   "source": []
  }
 ],
 "metadata": {
  "kernelspec": {
   "display_name": "base",
   "language": "python",
   "name": "python3"
  },
  "language_info": {
   "codemirror_mode": {
    "name": "ipython",
    "version": 3
   },
   "file_extension": ".py",
   "mimetype": "text/x-python",
   "name": "python",
   "nbconvert_exporter": "python",
   "pygments_lexer": "ipython3",
   "version": "3.11.5"
  }
 },
 "nbformat": 4,
 "nbformat_minor": 2
}
